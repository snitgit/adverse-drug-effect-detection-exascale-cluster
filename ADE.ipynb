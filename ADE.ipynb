{
 "cells": [
  {
   "cell_type": "markdown",
   "id": "019e7873",
   "metadata": {},
   "source": [
    "# Using Natural Language Processing to identify Adverse Drug Events on AI/HPC Cluster"
   ]
  },
  {
   "cell_type": "markdown",
   "id": "a8fbcabe",
   "metadata": {},
   "source": [
    "Adopt from https://towardsdatascience.com/using-nlp-to-identify-adverse-drug-events-ades-7a0194f1966a\n",
    "Instead run ML pipeline Hugging Face Processing jobs on Amazon SageMaker, we are migrated pipeline to private cluster.\n",
    "\n",
    "Motivated by family members health issues, exploring NLP to hock medical researcher in or community to explore and deploy machine learing pipline to Thai Language and medical thais records."
   ]
  },
  {
   "cell_type": "markdown",
   "id": "afcd5750",
   "metadata": {},
   "source": [
    "## Preconfigure Environment "
   ]
  },
  {
   "cell_type": "code",
   "execution_count": null,
   "id": "b68c0adc",
   "metadata": {},
   "outputs": [],
   "source": [
    "Recording:\n",
    "$ conda update -n base -c defaults conda\n",
    "$ conda create nlp\n",
    "$ conda activate nlp\n",
    "$ conda install jupyter\n",
    "\n",
    "$ conda install -c conda-forge scikit-learn\n",
    "$ conda install -c huggingface -c conda-forge datasets\n",
    "$ conda install pytorch pytorch-cuda=11.6 -c pytorch -c nvidia  \n"
   ]
  },
  {
   "cell_type": "markdown",
   "id": "bdf443cc",
   "metadata": {},
   "source": [
    "## Load Dataset"
   ]
  },
  {
   "cell_type": "code",
   "execution_count": null,
   "id": "0956f3e2",
   "metadata": {},
   "outputs": [],
   "source": [
    "import pandas as pd\n",
    "from datasets import load_dataset"
   ]
  },
  {
   "cell_type": "code",
   "execution_count": null,
   "id": "424c653a",
   "metadata": {},
   "outputs": [],
   "source": [
    "#from datasets import get_dataset_infos\n",
    "#get_dataset_infos('rotten_tomatoes')"
   ]
  },
  {
   "cell_type": "code",
   "execution_count": null,
   "id": "9bd14108",
   "metadata": {},
   "outputs": [],
   "source": [
    "from datasets import load_dataset\n",
    "import pandas as pd\n",
    "dataset = load_dataset('ade_corpus_v2', 'Ade_corpus_v2_classification')\n",
    "df = pd.DataFrame(dataset['train'])\n",
    "df.sample(5, random_state=124)"
   ]
  },
  {
   "cell_type": "code",
   "execution_count": null,
   "id": "c76d2dd8",
   "metadata": {},
   "outputs": [],
   "source": [
    "df['label'].sum()/len(df)"
   ]
  },
  {
   "cell_type": "code",
   "execution_count": null,
   "id": "d963deb3",
   "metadata": {
    "scrolled": true
   },
   "outputs": [],
   "source": [
    "%%bash\n",
    "python preprocess.py --dataset-name ade_corpus_v2 --datasubset-name Ade_corpus_v2_classification \\\n",
    "             --model-name distilbert-base-uncased --train-ratio 0.7 --val-ratio 0.15"
   ]
  },
  {
   "cell_type": "code",
   "execution_count": null,
   "id": "1504ccf5",
   "metadata": {
    "scrolled": true
   },
   "outputs": [],
   "source": [
    "%%bash \n",
    "ls "
   ]
  },
  {
   "cell_type": "markdown",
   "id": "03c5efa1",
   "metadata": {},
   "source": [
    "## Exploring Data"
   ]
  },
  {
   "cell_type": "code",
   "execution_count": null,
   "id": "13b2384b",
   "metadata": {},
   "outputs": [],
   "source": [
    "# explore dataset\n",
    "import pandas as pd\n",
    "from datasets import load_from_disk"
   ]
  },
  {
   "cell_type": "code",
   "execution_count": null,
   "id": "f3d553fe",
   "metadata": {},
   "outputs": [],
   "source": [
    "dataset = load_from_disk('./training')"
   ]
  },
  {
   "cell_type": "code",
   "execution_count": null,
   "id": "9f25c6cf",
   "metadata": {},
   "outputs": [],
   "source": [
    "df_train = pd.DataFrame(dataset)"
   ]
  },
  {
   "cell_type": "code",
   "execution_count": null,
   "id": "9f0a45d6",
   "metadata": {},
   "outputs": [],
   "source": [
    "df_train.head(10)"
   ]
  },
  {
   "cell_type": "code",
   "execution_count": null,
   "id": "1801efcc",
   "metadata": {},
   "outputs": [],
   "source": [
    "df_train['label'].sum()/len(df_train)"
   ]
  },
  {
   "cell_type": "code",
   "execution_count": null,
   "id": "f66264f7",
   "metadata": {},
   "outputs": [],
   "source": [
    "df_train.iloc[0]"
   ]
  },
  {
   "cell_type": "markdown",
   "id": "1804ec96",
   "metadata": {},
   "source": [
    "## Training Model"
   ]
  },
  {
   "cell_type": "code",
   "execution_count": null,
   "id": "5ea1d6ca",
   "metadata": {},
   "outputs": [],
   "source": [
    "# Training\n",
    "\n",
    "training_input_path = f'./training'\n",
    "val_input_path = f'./test'\n",
    "output_path=f'./training_output'"
   ]
  },
  {
   "cell_type": "code",
   "execution_count": null,
   "id": "cc2fa936",
   "metadata": {
    "scrolled": true
   },
   "outputs": [],
   "source": [
    "%%bash\n",
    "export SM_OUTPUT_DATA_DIR='./training_output'\n",
    "export SM_MODEL_DIR='distilbert-base-uncased'\n",
    "export SM_NUM_GPUS='8'\n",
    "export SM_CHANNEL_TRAIN='./training'\n",
    "export SM_CHANNEL_VAL='./validation'\n",
    "\n",
    "python train.py --epochs 2\\\n",
    "                 --train_batch_size 8 \\\n",
    "                 --model_name distilbert-base-uncased \\\n",
    "                 --output_data_di ./training_output \\\n",
    "                 --n_gpus 8 \\\n",
    "                 --training_dir ./training \\\n",
    "                 --val_dir ./validation"
   ]
  },
  {
   "cell_type": "markdown",
   "id": "637a89c7",
   "metadata": {},
   "source": [
    "## Train on GPUx8"
   ]
  },
  {
   "cell_type": "code",
   "execution_count": null,
   "id": "90ff76ce",
   "metadata": {},
   "outputs": [],
   "source": [
    "%%bash\n",
    "rm -r /tmp/test-clm; CUDA_VISIBLE_DEVICES=0,1,2,3,4,5,6,7 \\\n",
    "python -m torch.distributed.launch  \\\n",
    "--nproc_per_node 8 train.py  --epochs 2   --train_batch_size 8    \\\n",
    "--model_name distilbert-base-uncased     --output_data_di ./training_output      \\\n",
    "--n_gpus 8  --training_dir ./training    --val_dir ./validation\n"
   ]
  },
  {
   "cell_type": "markdown",
   "id": "1b7604b1",
   "metadata": {},
   "source": [
    "### It is amazinglyfast compared to CPUs, 32 cores.!"
   ]
  },
  {
   "cell_type": "markdown",
   "id": "6bf07974",
   "metadata": {},
   "source": [
    "## Inference"
   ]
  },
  {
   "cell_type": "code",
   "execution_count": null,
   "id": "d06692d0",
   "metadata": {},
   "outputs": [],
   "source": [
    "text = \"I got a rash from taking aspirin\"\n",
    "# text = 'I watched football and got really excited'\n"
   ]
  },
  {
   "cell_type": "code",
   "execution_count": null,
   "id": "849786ad",
   "metadata": {},
   "outputs": [],
   "source": [
    "from transformers import AutoTokenizer\n",
    "tokenizer = AutoTokenizer.from_pretrained(\"./distilbert-base-uncased/\")\n",
    "inputs = tokenizer(text, return_tensors=\"pt\")"
   ]
  },
  {
   "cell_type": "code",
   "execution_count": null,
   "id": "23a63ca1",
   "metadata": {},
   "outputs": [],
   "source": [
    "from transformers import AutoModelForSequenceClassification\n",
    "import torch\n",
    "model = AutoModelForSequenceClassification.from_pretrained(\"./distilbert-base-uncased/\")\n",
    "with torch.no_grad():\n",
    "    logits = model(**inputs).logits\n"
   ]
  },
  {
   "cell_type": "code",
   "execution_count": null,
   "id": "eeea7aad",
   "metadata": {},
   "outputs": [],
   "source": [
    "predicted_class_id = logits.argmax().item()\n",
    "model.config.id2label[predicted_class_id]"
   ]
  },
  {
   "cell_type": "code",
   "execution_count": null,
   "id": "63792930",
   "metadata": {},
   "outputs": [],
   "source": []
  }
 ],
 "metadata": {
  "kernelspec": {
   "display_name": "Python 3 (ipykernel)",
   "language": "python",
   "name": "python3"
  },
  "language_info": {
   "codemirror_mode": {
    "name": "ipython",
    "version": 3
   },
   "file_extension": ".py",
   "mimetype": "text/x-python",
   "name": "python",
   "nbconvert_exporter": "python",
   "pygments_lexer": "ipython3",
   "version": "3.10.9"
  }
 },
 "nbformat": 4,
 "nbformat_minor": 5
}
